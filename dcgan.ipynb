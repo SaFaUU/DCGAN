{
 "cells": [
  {
   "cell_type": "markdown",
   "metadata": {},
   "source": [
    "# Importing the Modules"
   ]
  },
  {
   "cell_type": "code",
   "execution_count": null,
   "metadata": {},
   "outputs": [],
   "source": [
    "import tensorflow as tf\n",
    "os.environ[\"TF_CPP_MIN_LOG_LEVEL\"] = '2'\n",
    "from tensorflow import keras\n",
    "from tensorflow.keras import layers\n",
    "from tqdm import tqdm\n",
    "import numpy as np\n",
    "import matplotlib.pyplot as plt"
   ]
  },
  {
   "cell_type": "markdown",
   "metadata": {},
   "source": [
    "# Data Preperation"
   ]
  },
  {
   "cell_type": "code",
   "execution_count": null,
   "metadata": {},
   "outputs": [
    {
     "name": "stdout",
     "output_type": "stream",
     "text": [
      "Found 21551 files belonging to 1 classes.\n"
     ]
    }
   ],
   "source": [
    "train_directory = 'data'\n",
    "\n",
    "dataset = keras.preprocessing.image_dataset_from_directory(\n",
    "    train_directory, \n",
    "    label_mode = None, \n",
    "    image_size=(64, 64), \n",
    "    batch_size=32, \n",
    "    shuffle=True\n",
    "\n",
    "    ).map(lambda x: x/255.0)"
   ]
  },
  {
   "cell_type": "markdown",
   "metadata": {},
   "source": [
    "# Modelling"
   ]
  },
  {
   "cell_type": "code",
   "execution_count": null,
   "metadata": {},
   "outputs": [
    {
     "name": "stdout",
     "output_type": "stream",
     "text": [
      "Model: \"sequential\"\n",
      "_________________________________________________________________\n",
      " Layer (type)                Output Shape              Param #   \n",
      "=================================================================\n",
      " dense (Dense)               (None, 8192)              1056768   \n",
      "                                                                 \n",
      " reshape (Reshape)           (None, 8, 8, 128)         0         \n",
      "                                                                 \n",
      " conv2d_transpose (Conv2DTra  (None, 16, 16, 128)      262272    \n",
      " nspose)                                                         \n",
      "                                                                 \n",
      " leaky_re_lu (LeakyReLU)     (None, 16, 16, 128)       0         \n",
      "                                                                 \n",
      " conv2d_transpose_1 (Conv2DT  (None, 32, 32, 256)      524544    \n",
      " ranspose)                                                       \n",
      "                                                                 \n",
      " leaky_re_lu_1 (LeakyReLU)   (None, 32, 32, 256)       0         \n",
      "                                                                 \n",
      " conv2d_transpose_2 (Conv2DT  (None, 64, 64, 512)      2097664   \n",
      " ranspose)                                                       \n",
      "                                                                 \n",
      " leaky_re_lu_2 (LeakyReLU)   (None, 64, 64, 512)       0         \n",
      "                                                                 \n",
      " conv2d (Conv2D)             (None, 64, 64, 3)         38403     \n",
      "                                                                 \n",
      "=================================================================\n",
      "Total params: 3,979,651\n",
      "Trainable params: 3,979,651\n",
      "Non-trainable params: 0\n",
      "_________________________________________________________________\n"
     ]
    }
   ],
   "source": [
    "#Starting Noise Dimension\n",
    "LATENT_DIM = 128\n",
    "\n",
    "generator = keras.Sequential([\n",
    "    layers.Input(shape=(LATENT_DIM)),\n",
    "    #Taking the noise vector to a 8x8 image with 128 channel\n",
    "    layers.Dense(8*8*128),\n",
    "    layers.Reshape((8, 8, 128)),\n",
    "\n",
    "    #Generator image need to larger so we use ConvTranspose istead of Conv\n",
    "    layers.Conv2DTranspose(128, kernel_size = 4, strides = 2, padding = 'same'),\n",
    "    layers.LeakyReLU(0.2),\n",
    "\n",
    "    layers.Conv2DTranspose(256, kernel_size = 4, strides = 2, padding = 'same'),\n",
    "    layers.LeakyReLU(0.2),\n",
    "\n",
    "    layers.Conv2DTranspose(512, kernel_size = 4, strides = 2, padding = 'same'),\n",
    "    layers.LeakyReLU(0.2),\n",
    "\n",
    "    #This Conv layer doesn't multiply the image size\n",
    "    layers.Conv2D(3, kernel_size = 5, padding='same', activation='sigmoid'),\n",
    "])\n",
    "\n",
    "generator.summary()"
   ]
  },
  {
   "cell_type": "markdown",
   "metadata": {},
   "source": [
    "# Discriminator"
   ]
  },
  {
   "cell_type": "code",
   "execution_count": null,
   "metadata": {},
   "outputs": [
    {
     "name": "stdout",
     "output_type": "stream",
     "text": [
      "Model: \"sequential_1\"\n",
      "_________________________________________________________________\n",
      " Layer (type)                Output Shape              Param #   \n",
      "=================================================================\n",
      " conv2d_1 (Conv2D)           (None, 32, 32, 64)        3136      \n",
      "                                                                 \n",
      " leaky_re_lu_3 (LeakyReLU)   (None, 32, 32, 64)        0         \n",
      "                                                                 \n",
      " conv2d_2 (Conv2D)           (None, 16, 16, 128)       131200    \n",
      "                                                                 \n",
      " leaky_re_lu_4 (LeakyReLU)   (None, 16, 16, 128)       0         \n",
      "                                                                 \n",
      " conv2d_3 (Conv2D)           (None, 8, 8, 128)         262272    \n",
      "                                                                 \n",
      " leaky_re_lu_5 (LeakyReLU)   (None, 8, 8, 128)         0         \n",
      "                                                                 \n",
      " flatten (Flatten)           (None, 8192)              0         \n",
      "                                                                 \n",
      " dropout (Dropout)           (None, 8192)              0         \n",
      "                                                                 \n",
      " dense_1 (Dense)             (None, 1)                 8193      \n",
      "                                                                 \n",
      "=================================================================\n",
      "Total params: 404,801\n",
      "Trainable params: 404,801\n",
      "Non-trainable params: 0\n",
      "_________________________________________________________________\n"
     ]
    }
   ],
   "source": [
    "discriminator = keras.Sequential([\n",
    "    keras.Input(shape=(64, 64, 3)),\n",
    "    layers.Conv2D(64, kernel_size = 4, strides = 2, padding = 'same'),\n",
    "    layers.LeakyReLU(0.2),\n",
    "\n",
    "    layers.Conv2D(128, kernel_size = 4, strides = 2, padding = 'same'),\n",
    "    layers.LeakyReLU(0.2),\n",
    "\n",
    "    layers.Conv2D(128, kernel_size = 4, strides = 2, padding = 'same'),\n",
    "    layers.LeakyReLU(0.2),\n",
    "\n",
    "    layers.Flatten(),\n",
    "    layers.Dropout(0.2),\n",
    "    layers.Dense(1, activation = 'sigmoid'),\n",
    "    ])\n",
    "discriminator.summary()"
   ]
  },
  {
   "cell_type": "markdown",
   "metadata": {},
   "source": [
    "# Training and Optimization"
   ]
  },
  {
   "cell_type": "code",
   "execution_count": null,
   "metadata": {},
   "outputs": [],
   "source": [
    "loss_fn = keras.losses.BinaryCrossentropy(from_logits= True)"
   ]
  },
  {
   "cell_type": "markdown",
   "metadata": {},
   "source": [
    "# Optimizer"
   ]
  },
  {
   "cell_type": "code",
   "execution_count": null,
   "metadata": {},
   "outputs": [],
   "source": [
    "opt_gen = keras.optimizers.Adam(1e-4)\n",
    "opt_disc = keras.optimizers.Adam(1e-4)"
   ]
  },
  {
   "cell_type": "code",
   "execution_count": null,
   "metadata": {},
   "outputs": [],
   "source": [
    "EPOCHS = 20"
   ]
  },
  {
   "cell_type": "markdown",
   "metadata": {},
   "source": [
    "# Training Function"
   ]
  },
  {
   "cell_type": "code",
   "execution_count": 11,
   "metadata": {},
   "outputs": [],
   "source": [
    "def train(dataset, epochs):\n",
    "    print(\"Training Started...\")\n",
    "    for epoch in range(epochs):\n",
    "        for idx, real in enumerate(tqdm(dataset)):\n",
    "            batch_size = real.shape[0]\n",
    "            random_latent_vectors = tf.random.normal(shape=(batch_size, LATENT_DIM))\n",
    "\n",
    "            #Generating Fake Image\n",
    "            with tf.GradientTape() as gen_tape:\n",
    "                fake = generator(random_latent_vectors)\n",
    "\n",
    "            with tf.GradientTape() as disc_tape:\n",
    "                #Training Discriminator: max y*log(D(x)) + (1-y)*log(1 - D(G(z))), Here we are sending in y as 1 to get the log(D(x))\n",
    "                loss_disc_real = loss_fn(tf.ones((batch_size, 1)), discriminator(real))\n",
    "                loss_disc_fake = loss_fn(tf.zeros((batch_size, 1)), discriminator(fake))\n",
    "\n",
    "                loss_disc = (loss_disc_fake + loss_disc_real) /2\n",
    "            \n",
    "            #Calculating the Gradient\n",
    "            grads = disc_tape.gradient(loss_disc, discriminator.trainable_weights)\n",
    "\n",
    "            #Updating the Discriminator\n",
    "            opt_disc.apply_gradients(\n",
    "                zip(grads, discriminator.trainable_weights)\n",
    "                )\n",
    "\n",
    "            ### Train the generator: min log(1-D(G(z))) it has saturation problem so we use log(D(G(z))) instead\n",
    "            with tf.GradientTape() as gen_tape:\n",
    "                fake = generator(random_latent_vectors)\n",
    "                output = discriminator(fake)\n",
    "                loss_gen = loss_fn(tf.ones(batch_size, 1), output)\n",
    "            \n",
    "            grads = gen_tape.gradient(loss_gen, generator.trainable_weights)\n",
    "\n",
    "            opt_gen.apply_gradients(\n",
    "                zip(grads, generator.trainable_weights)\n",
    "                )\n",
    "        # Display a generated image\n",
    "        img = keras.preprocessing.image.array_to_img(generator(random_latent_vector)[0])\n",
    "        img.save(f\"generated_images/generated_img{epoch}_{idx}_.png\")\n",
    "        \n",
    "        plt.imshow(img)\n",
    "        plt.show()\n",
    "        \n",
    "        print(\"Epoch {}, D_loss: {}, G_loss: {}\".format(epoch+1, loss_disc, loss_gen))\n",
    "    return\n"
   ]
  },
  {
   "cell_type": "code",
   "execution_count": 12,
   "metadata": {},
   "outputs": [
    {
     "name": "stdout",
     "output_type": "stream",
     "text": [
      "Training Started...\n"
     ]
    },
    {
     "name": "stderr",
     "output_type": "stream",
     "text": [
      " 23%|██▎       | 152/674 [01:05<03:39,  2.37it/s]"
     ]
    }
   ],
   "source": [
    "train(dataset, EPOCHS)"
   ]
  }
 ],
 "metadata": {
  "kernelspec": {
   "display_name": "tf",
   "language": "python",
   "name": "python3"
  },
  "language_info": {
   "codemirror_mode": {
    "name": "ipython",
    "version": 3
   },
   "file_extension": ".py",
   "mimetype": "text/x-python",
   "name": "python",
   "nbconvert_exporter": "python",
   "pygments_lexer": "ipython3",
   "version": "3.9.16 (main, Mar  8 2023, 10:39:24) [MSC v.1916 64 bit (AMD64)]"
  },
  "vscode": {
   "interpreter": {
    "hash": "a9063ff2262220159f9d0422687c0477cf7937962d72300ed35684f58e95be43"
   }
  }
 },
 "nbformat": 4,
 "nbformat_minor": 2
}
