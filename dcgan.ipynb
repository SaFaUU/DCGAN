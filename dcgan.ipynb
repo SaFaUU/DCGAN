{
 "cells": [
  {
   "attachments": {},
   "cell_type": "markdown",
   "metadata": {},
   "source": [
    "# Importing the Modules"
   ]
  },
  {
   "cell_type": "code",
   "execution_count": 12,
   "metadata": {},
   "outputs": [],
   "source": [
    "import tensorflow as tf\n",
    "from tensorflow.keras.layers import Conv2D, LeakyReLU, Dropout, Flatten, Dense, BatchNormalization, Reshape, Conv2DTranspose, Rescaling\n",
    "from tensorflow.keras import Sequential, preprocessing\n",
    "import matplotlib.pyplot as plt\n",
    "import numpy as np\n",
    "import os\n",
    "import time"
   ]
  },
  {
   "attachments": {},
   "cell_type": "markdown",
   "metadata": {},
   "source": [
    "# Data Preperation"
   ]
  },
  {
   "cell_type": "code",
   "execution_count": 2,
   "metadata": {},
   "outputs": [
    {
     "name": "stdout",
     "output_type": "stream",
     "text": [
      "Found 202599 files belonging to 1 classes.\n"
     ]
    }
   ],
   "source": [
    "train_directory = 'img_align_celeba'\n",
    "BATCH_SIZE = 64\n",
    "INPUT_DIM = 64\n",
    "dataset = tf.keras.preprocessing.image_dataset_from_directory(train_directory, label_mode= None, image_size=(INPUT_DIM, INPUT_DIM), batch_size=BATCH_SIZE)"
   ]
  },
  {
   "attachments": {},
   "cell_type": "markdown",
   "metadata": {},
   "source": [
    "# Modelling"
   ]
  },
  {
   "cell_type": "code",
   "execution_count": 6,
   "metadata": {},
   "outputs": [
    {
     "name": "stdout",
     "output_type": "stream",
     "text": [
      "Model: \"sequential\"\n",
      "_________________________________________________________________\n",
      " Layer (type)                Output Shape              Param #   \n",
      "=================================================================\n",
      " dense_1 (Dense)             (None, 32768)             4227072   \n",
      "                                                                 \n",
      " batch_normalization_1 (Batc  (None, 32768)            131072    \n",
      " hNormalization)                                                 \n",
      "                                                                 \n",
      " leaky_re_lu_1 (LeakyReLU)   (None, 32768)             0         \n",
      "                                                                 \n",
      " reshape (Reshape)           (None, 16, 16, 128)       0         \n",
      "                                                                 \n",
      " conv2d_transpose (Conv2DTra  (None, 16, 16, 128)      409728    \n",
      " nspose)                                                         \n",
      "                                                                 \n",
      " conv2d_transpose_1 (Conv2DT  (None, 32, 32, 64)       204864    \n",
      " ranspose)                                                       \n",
      "                                                                 \n",
      " batch_normalization_2 (Batc  (None, 32, 32, 64)       256       \n",
      " hNormalization)                                                 \n",
      "                                                                 \n",
      " leaky_re_lu_2 (LeakyReLU)   (None, 32, 32, 64)        0         \n",
      "                                                                 \n",
      " conv2d_transpose_2 (Conv2DT  (None, 64, 64, 3)        4803      \n",
      " ranspose)                                                       \n",
      "                                                                 \n",
      "=================================================================\n",
      "Total params: 4,977,795\n",
      "Trainable params: 4,912,131\n",
      "Non-trainable params: 65,664\n",
      "_________________________________________________________________\n"
     ]
    }
   ],
   "source": [
    "INIT_SIZE = INPUT_DIM // 4\n",
    "NOISE_DIM = 128\n",
    "\n",
    "inputs = tf.keras.Input(shape = (NOISE_DIM, ))\n",
    "\n",
    "generator_model = Sequential([\n",
    "    inputs,\n",
    "    Dense(INIT_SIZE * INIT_SIZE * NOISE_DIM,),\n",
    "\n",
    "    BatchNormalization(),\n",
    "    LeakyReLU(),\n",
    "    Reshape((INIT_SIZE, INIT_SIZE, 128)),\n",
    "    Conv2DTranspose(128, (5, 5), strides =(1, 1), padding = 'same'),\n",
    "    Conv2DTranspose(INIT_SIZE * 4, (5, 5), strides =(2, 2), padding = 'same'),\n",
    "\n",
    "    BatchNormalization(),\n",
    "    LeakyReLU(),\n",
    "    Conv2DTranspose(3, (5, 5), strides =(2, 2), padding = 'same', activation = 'tanh'),\n",
    "])\n",
    "\n",
    "generator_model.summary()"
   ]
  },
  {
   "attachments": {},
   "cell_type": "markdown",
   "metadata": {},
   "source": [
    "# Discriminator"
   ]
  },
  {
   "cell_type": "code",
   "execution_count": 13,
   "metadata": {},
   "outputs": [
    {
     "name": "stdout",
     "output_type": "stream",
     "text": [
      "Model: \"sequential_1\"\n",
      "_________________________________________________________________\n",
      " Layer (type)                Output Shape              Param #   \n",
      "=================================================================\n",
      " rescaling (Rescaling)       (None, 64, 64, 3)         0         \n",
      "                                                                 \n",
      " conv2d (Conv2D)             (None, 32, 32, 32)        2432      \n",
      "                                                                 \n",
      " leaky_re_lu_3 (LeakyReLU)   (None, 32, 32, 32)        0         \n",
      "                                                                 \n",
      " dropout (Dropout)           (None, 32, 32, 32)        0         \n",
      "                                                                 \n",
      " conv2d_1 (Conv2D)           (None, 16, 16, 128)       102528    \n",
      "                                                                 \n",
      " leaky_re_lu_4 (LeakyReLU)   (None, 16, 16, 128)       0         \n",
      "                                                                 \n",
      " dropout_1 (Dropout)         (None, 16, 16, 128)       0         \n",
      "                                                                 \n",
      " conv2d_2 (Conv2D)           (None, 8, 8, 128)         409728    \n",
      "                                                                 \n",
      " leaky_re_lu_5 (LeakyReLU)   (None, 8, 8, 128)         0         \n",
      "                                                                 \n",
      " dropout_2 (Dropout)         (None, 8, 8, 128)         0         \n",
      "                                                                 \n",
      " flatten (Flatten)           (None, 8192)              0         \n",
      "                                                                 \n",
      " dense_2 (Dense)             (None, 1)                 8193      \n",
      "                                                                 \n",
      "=================================================================\n",
      "Total params: 522,881\n",
      "Trainable params: 522,881\n",
      "Non-trainable params: 0\n",
      "_________________________________________________________________\n"
     ]
    }
   ],
   "source": [
    "inputs = tf.keras.Input(shape = (INPUT_DIM, INPUT_DIM, 3))\n",
    "\n",
    "discriminator_model = Sequential([\n",
    "    inputs,\n",
    "    Rescaling(1 / 255.0),\n",
    "    Conv2D(32, (5, 5), strides = (2, 2), padding = 'same'),\n",
    "    LeakyReLU(),\n",
    "    Dropout(0.3),\n",
    "    Conv2D(128, (5, 5), strides = (2, 2), padding = 'same'),\n",
    "    LeakyReLU(),\n",
    "    Dropout(0.3),\n",
    "    Conv2D(128, (5, 5), strides = (2, 2), padding = 'same'),\n",
    "    LeakyReLU(),\n",
    "    Dropout(0.3),\n",
    "    Flatten(),\n",
    "    Dense(1),\n",
    "    ])\n",
    "discriminator_model.summary()"
   ]
  }
 ],
 "metadata": {
  "kernelspec": {
   "display_name": "tf",
   "language": "python",
   "name": "python3"
  },
  "language_info": {
   "codemirror_mode": {
    "name": "ipython",
    "version": 3
   },
   "file_extension": ".py",
   "mimetype": "text/x-python",
   "name": "python",
   "nbconvert_exporter": "python",
   "pygments_lexer": "ipython3",
   "version": "3.9.16"
  },
  "orig_nbformat": 4,
  "vscode": {
   "interpreter": {
    "hash": "a9063ff2262220159f9d0422687c0477cf7937962d72300ed35684f58e95be43"
   }
  }
 },
 "nbformat": 4,
 "nbformat_minor": 2
}
